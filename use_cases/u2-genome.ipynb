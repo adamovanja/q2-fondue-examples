{
 "cells": [
  {
   "cell_type": "markdown",
   "metadata": {
    "tags": []
   },
   "source": [
    "## Setup\n",
    "\n",
    "__Note:__ This analysis requires a lot of temporary storage space (~200GB) in the data fetch phase. Subsequently, around ~50GB are required to store all the output artifacts."
   ]
  },
  {
   "cell_type": "code",
   "execution_count": null,
   "metadata": {
    "execution": {
     "iopub.execute_input": "2022-02-09T08:48:15.600758Z",
     "iopub.status.busy": "2022-02-09T08:48:15.600324Z",
     "iopub.status.idle": "2022-02-09T08:48:19.728738Z",
     "shell.execute_reply": "2022-02-09T08:48:19.728365Z",
     "shell.execute_reply.started": "2022-02-09T08:48:15.600623Z"
    },
    "pycharm": {
     "name": "#%%\n"
    },
    "tags": []
   },
   "outputs": [],
   "source": [
    "import os\n",
    "import matplotlib.pyplot as plt\n",
    "import pandas as pd\n",
    "import qiime2 as q2\n",
    "import seaborn as sns\n",
    "import skbio\n",
    "\n",
    "from matplotlib import cm\n",
    "from qiime2.plugins import (\n",
    "    fondue, sourmash, diversity, emperor, demux, \n",
    "    sample_classifier, cutadapt\n",
    ")\n",
    "\n",
    "data_loc = 'u2-genome-results'\n",
    "if not os.path.isdir(data_loc):\n",
    "    os.mkdir(data_loc)\n",
    "\n",
    "email = 'your@email.com'\n",
    "n_jobs = 16\n",
    "\n",
    "nextstrain_metadata_path = os.path.join(data_loc, 'metadata_nextstrain.tsv')\n",
    "nextstrain_meta_url = 'https://data.nextstrain.org/files/ncov/open/metadata.tsv.gz'\n",
    "nextstrain_last_submit_date = '2022-01-31'\n",
    "\n",
    "genomes_per_variant = 250\n",
    "random_seed = 11\n",
    "\n",
    "sra_metadata_path = os.path.join(data_loc, 'metadata_sra.tsv')\n",
    "metadata_merged_path = os.path.join(data_loc, 'metadata_merged.tsv')"
   ]
  },
  {
   "cell_type": "code",
   "execution_count": null,
   "metadata": {
    "execution": {
     "iopub.execute_input": "2022-02-09T08:48:19.729726Z",
     "iopub.status.busy": "2022-02-09T08:48:19.729518Z",
     "iopub.status.idle": "2022-02-09T08:48:19.733931Z",
     "shell.execute_reply": "2022-02-09T08:48:19.733522Z",
     "shell.execute_reply.started": "2022-02-09T08:48:19.729679Z"
    },
    "tags": []
   },
   "outputs": [],
   "source": [
    "def sample_variants(metadata_df, n, grouping_col='Nextstrain_clade', random_state=1):\n",
    "    \"\"\"Draw a random, stratified sample from all available virus variants.\n",
    "    \n",
    "    Args:\n",
    "        metadata_df (pd.DataFrame): Metadata of all samples.\n",
    "        n (int): Sample size per virus variant.\n",
    "        grouping_col (str): Name of the column containing variant name.\n",
    "        random_state (int): Random seed to be used when sampling.\n",
    "    \n",
    "    Returns:\n",
    "        pd.DataFrame: DataFrame containing subsampled metadata.\n",
    "    \"\"\"\n",
    "    metadata_ns_vars_smp = metadata_df.groupby(grouping_col).apply(\n",
    "        lambda x: x.sample(n=n, random_state=random_state)\n",
    "    )\n",
    "    if 'sra_accession' in metadata_ns_vars_smp.columns:\n",
    "        metadata_ns_vars_smp.set_index('sra_accession', drop=True, inplace=True)\n",
    "    else:\n",
    "        metadata_ns_vars_smp.reset_index(level=0, drop=True, inplace=True)\n",
    "    metadata_ns_vars_smp.index.name = 'id'\n",
    "    return metadata_ns_vars_smp\n",
    "\n",
    "\n",
    "def color_variants(x, cmap='plasma'):\n",
    "    \"\"\"\n",
    "    Return a color from provided color map based on virus variant.\n",
    "    \n",
    "    Args:\n",
    "        x (str): Variant name.\n",
    "        cmap (str): Matplotlib's color map name.\n",
    "    \n",
    "    Returns:\n",
    "        Color from Matplotlib's cmap.\n",
    "    \"\"\"\n",
    "    colors = cm.get_cmap(cmap, 8).colors\n",
    "    if x == 'Alpha':\n",
    "        return colors[0]\n",
    "    elif x == 'Delta':\n",
    "        return colors[1]\n",
    "    else: \n",
    "        return colors[2]"
   ]
  },
  {
   "cell_type": "markdown",
   "metadata": {
    "pycharm": {
     "name": "#%% md\n"
    },
    "tags": []
   },
   "source": [
    "## Process NextStrain's metadata\n",
    "\n",
    "We are interested in taking a sample of SARS-CoV-2 genomes from the full Nextstrain list. We will only consider genomes available in the SRA repository for a few virus variants. Moreover, we will only work with single-end sequences to simplify the analysis. We begin by fetching the original Nextstrain metadata:"
   ]
  },
  {
   "cell_type": "code",
   "execution_count": null,
   "metadata": {
    "execution": {
     "iopub.execute_input": "2022-02-09T08:48:19.841160Z",
     "iopub.status.busy": "2022-02-09T08:48:19.839955Z",
     "iopub.status.idle": "2022-02-09T08:48:19.865957Z",
     "shell.execute_reply": "2022-02-09T08:48:19.864734Z",
     "shell.execute_reply.started": "2022-02-09T08:48:19.841101Z"
    },
    "tags": []
   },
   "outputs": [],
   "source": [
    "%%bash -s \"$nextstrain_metadata_path\" \"$data_loc\" \"$nextstrain_meta_url\"\n",
    "\n",
    "if test -f \"$1\"; then\n",
    "    echo \"$1 exists and will not be re-downloaded.\"\n",
    "else\n",
    "    wget -nv -O \"$2/metadata.tsv.gz\" \"$3\";\n",
    "    gzip -f -d \"$2/metadata.tsv.gz\";\n",
    "    mv \"$2/metadata.tsv\" \"$2/metadata_nextstrain.tsv\"\n",
    "fi"
   ]
  },
  {
   "cell_type": "code",
   "execution_count": null,
   "metadata": {
    "execution": {
     "iopub.execute_input": "2022-02-09T08:48:20.169562Z",
     "iopub.status.busy": "2022-02-09T08:48:20.169234Z",
     "iopub.status.idle": "2022-02-09T08:48:52.507913Z",
     "shell.execute_reply": "2022-02-09T08:48:52.507361Z",
     "shell.execute_reply.started": "2022-02-09T08:48:20.169502Z"
    },
    "pycharm": {
     "name": "#%%\n"
    },
    "tags": []
   },
   "outputs": [],
   "source": [
    "metadata_ns = pd.read_csv(nextstrain_metadata_path, sep='\\t')\n",
    "metadata_ns.shape"
   ]
  },
  {
   "cell_type": "code",
   "execution_count": null,
   "metadata": {
    "execution": {
     "iopub.execute_input": "2022-02-09T08:48:52.509393Z",
     "iopub.status.busy": "2022-02-09T08:48:52.509076Z",
     "iopub.status.idle": "2022-02-09T08:48:52.545312Z",
     "shell.execute_reply": "2022-02-09T08:48:52.544860Z",
     "shell.execute_reply.started": "2022-02-09T08:48:52.509360Z"
    },
    "pycharm": {
     "name": "#%%\n"
    },
    "tags": []
   },
   "outputs": [],
   "source": [
    "metadata_ns.head(5)"
   ]
  },
  {
   "cell_type": "code",
   "execution_count": null,
   "metadata": {
    "execution": {
     "iopub.execute_input": "2022-02-09T08:48:52.546255Z",
     "iopub.status.busy": "2022-02-09T08:48:52.546121Z",
     "iopub.status.idle": "2022-02-09T08:48:54.665864Z",
     "shell.execute_reply": "2022-02-09T08:48:54.665185Z",
     "shell.execute_reply.started": "2022-02-09T08:48:52.546243Z"
    },
    "tags": []
   },
   "outputs": [],
   "source": [
    "# remove the records obtained later than the indicated date\n",
    "metadata_ns['date_submitted'] = pd.to_datetime(metadata_ns['date_submitted'])\n",
    "metadata_ns = metadata_ns[metadata_ns['date_submitted'] <= nextstrain_last_submit_date]\n",
    "metadata_ns.shape"
   ]
  },
  {
   "cell_type": "code",
   "execution_count": null,
   "metadata": {
    "execution": {
     "iopub.execute_input": "2022-02-09T08:48:54.667223Z",
     "iopub.status.busy": "2022-02-09T08:48:54.667015Z",
     "iopub.status.idle": "2022-02-09T08:49:03.400586Z",
     "shell.execute_reply": "2022-02-09T08:49:03.399793Z",
     "shell.execute_reply.started": "2022-02-09T08:48:54.667194Z"
    },
    "tags": []
   },
   "outputs": [],
   "source": [
    "# convert date_submitted back to string (to conform with QIIME 2' Metadata format)\n",
    "metadata_ns['date_submitted'] = metadata_ns['date_submitted'].astype(str)"
   ]
  },
  {
   "cell_type": "code",
   "execution_count": null,
   "metadata": {
    "execution": {
     "iopub.execute_input": "2022-02-09T08:49:03.401562Z",
     "iopub.status.busy": "2022-02-09T08:49:03.401367Z",
     "iopub.status.idle": "2022-02-09T08:49:03.591074Z",
     "shell.execute_reply": "2022-02-09T08:49:03.590770Z",
     "shell.execute_reply.started": "2022-02-09T08:49:03.401532Z"
    },
    "pycharm": {
     "name": "#%%\n"
    },
    "tags": []
   },
   "outputs": [],
   "source": [
    "# check count of samples per variant\n",
    "metadata_ns['Nextstrain_clade'].value_counts()"
   ]
  },
  {
   "cell_type": "markdown",
   "metadata": {
    "pycharm": {
     "name": "#%% md\n"
    }
   },
   "source": [
    "Only keep samples with SRA accession numbers."
   ]
  },
  {
   "cell_type": "code",
   "execution_count": null,
   "metadata": {
    "execution": {
     "iopub.execute_input": "2022-02-09T08:49:03.591946Z",
     "iopub.status.busy": "2022-02-09T08:49:03.591696Z",
     "iopub.status.idle": "2022-02-09T08:49:07.549423Z",
     "shell.execute_reply": "2022-02-09T08:49:07.548673Z",
     "shell.execute_reply.started": "2022-02-09T08:49:03.591924Z"
    },
    "pycharm": {
     "name": "#%%\n"
    },
    "tags": []
   },
   "outputs": [],
   "source": [
    "metadata_ns = metadata_ns[\n",
    "    metadata_ns['sra_accession'].notna() & \\\n",
    "    metadata_ns['sra_accession'].str.startswith(('SRR', 'ERR')) &\n",
    "    (metadata_ns['sra_accession'].str.contains(',') == False)\n",
    "]\n",
    "metadata_ns.shape"
   ]
  },
  {
   "cell_type": "markdown",
   "metadata": {},
   "source": [
    "Only keep samples with good `QC_missing_data`."
   ]
  },
  {
   "cell_type": "code",
   "execution_count": null,
   "metadata": {
    "execution": {
     "iopub.execute_input": "2022-02-09T08:49:07.550451Z",
     "iopub.status.busy": "2022-02-09T08:49:07.550228Z",
     "iopub.status.idle": "2022-02-09T08:49:08.237226Z",
     "shell.execute_reply": "2022-02-09T08:49:08.236476Z",
     "shell.execute_reply.started": "2022-02-09T08:49:07.550422Z"
    },
    "tags": []
   },
   "outputs": [],
   "source": [
    "metadata_ns = metadata_ns[metadata_ns['QC_missing_data'] == 'good']\n",
    "metadata_ns.shape"
   ]
  },
  {
   "cell_type": "markdown",
   "metadata": {
    "pycharm": {
     "name": "#%% md\n"
    }
   },
   "source": [
    "Filter out and group together only the desired virus variants."
   ]
  },
  {
   "cell_type": "code",
   "execution_count": null,
   "metadata": {
    "execution": {
     "iopub.execute_input": "2022-02-09T08:49:08.238295Z",
     "iopub.status.busy": "2022-02-09T08:49:08.238035Z",
     "iopub.status.idle": "2022-02-09T08:49:09.887950Z",
     "shell.execute_reply": "2022-02-09T08:49:09.887105Z",
     "shell.execute_reply.started": "2022-02-09T08:49:08.238251Z"
    },
    "pycharm": {
     "name": "#%%\n"
    },
    "tags": []
   },
   "outputs": [],
   "source": [
    "variants = ['Alpha', 'Delta', 'Omicron']\n",
    "\n",
    "metadata_ns_vars = metadata_ns[metadata_ns['Nextstrain_clade'].notna()]\n",
    "metadata_ns_vars = metadata_ns_vars[metadata_ns_vars['Nextstrain_clade'].str.contains('|'.join(variants))]\n",
    "metadata_ns_vars.shape"
   ]
  },
  {
   "cell_type": "code",
   "execution_count": null,
   "metadata": {
    "execution": {
     "iopub.execute_input": "2022-02-09T08:49:09.889193Z",
     "iopub.status.busy": "2022-02-09T08:49:09.888976Z",
     "iopub.status.idle": "2022-02-09T08:49:11.570787Z",
     "shell.execute_reply": "2022-02-09T08:49:11.570224Z",
     "shell.execute_reply.started": "2022-02-09T08:49:09.889153Z"
    },
    "pycharm": {
     "name": "#%%\n"
    },
    "tags": []
   },
   "outputs": [],
   "source": [
    "# rename clades to generate groups\n",
    "metadata_ns_vars['Nextstrain_clade_grouped'] = metadata_ns_vars['Nextstrain_clade']\n",
    "for variant in variants:\n",
    "    metadata_ns_vars['Nextstrain_clade_grouped'] = \\\n",
    "    metadata_ns_vars['Nextstrain_clade_grouped'].str.replace(rf'.*{variant}.*', variant, regex=True)\n",
    "\n",
    "clade_counts = metadata_ns_vars['Nextstrain_clade_grouped'].value_counts()"
   ]
  },
  {
   "cell_type": "code",
   "execution_count": null,
   "metadata": {
    "execution": {
     "iopub.execute_input": "2022-02-09T08:49:11.573165Z",
     "iopub.status.busy": "2022-02-09T08:49:11.572896Z",
     "iopub.status.idle": "2022-02-09T08:49:11.577310Z",
     "shell.execute_reply": "2022-02-09T08:49:11.576930Z",
     "shell.execute_reply.started": "2022-02-09T08:49:11.573124Z"
    },
    "tags": []
   },
   "outputs": [],
   "source": [
    "clade_counts"
   ]
  },
  {
   "cell_type": "markdown",
   "metadata": {
    "pycharm": {
     "name": "#%% md\n"
    }
   },
   "source": [
    "Sample _n_ sequences per virus variant. We are first sampling more than the final required count per variant - we will need some initial metadata to sample only the records with desired properties."
   ]
  },
  {
   "cell_type": "code",
   "execution_count": null,
   "metadata": {
    "execution": {
     "iopub.execute_input": "2022-02-09T08:49:11.578306Z",
     "iopub.status.busy": "2022-02-09T08:49:11.578116Z",
     "iopub.status.idle": "2022-02-09T08:49:13.629072Z",
     "shell.execute_reply": "2022-02-09T08:49:13.628425Z",
     "shell.execute_reply.started": "2022-02-09T08:49:11.578287Z"
    },
    "pycharm": {
     "name": "#%%\n"
    },
    "tags": []
   },
   "outputs": [],
   "source": [
    "n = 150 * genomes_per_variant\n",
    "metadata_ns_vars_smp = sample_variants(\n",
    "    metadata_ns_vars, n=n, grouping_col='Nextstrain_clade_grouped', random_state=random_seed\n",
    ")"
   ]
  },
  {
   "cell_type": "code",
   "execution_count": null,
   "metadata": {
    "execution": {
     "iopub.execute_input": "2022-02-09T08:49:13.630266Z",
     "iopub.status.busy": "2022-02-09T08:49:13.629922Z",
     "iopub.status.idle": "2022-02-09T08:49:13.749512Z",
     "shell.execute_reply": "2022-02-09T08:49:13.748586Z",
     "shell.execute_reply.started": "2022-02-09T08:49:13.630218Z"
    },
    "tags": []
   },
   "outputs": [],
   "source": [
    "# remove some columns with mixed types (we will not need those)\n",
    "for col in ['clock_deviation']:\n",
    "    metadata_ns_vars_smp.drop(col, axis=1, inplace=True)"
   ]
  },
  {
   "cell_type": "code",
   "execution_count": null,
   "metadata": {
    "execution": {
     "iopub.execute_input": "2022-02-09T08:49:13.750665Z",
     "iopub.status.busy": "2022-02-09T08:49:13.750511Z",
     "iopub.status.idle": "2022-02-09T08:49:13.761798Z",
     "shell.execute_reply": "2022-02-09T08:49:13.761402Z",
     "shell.execute_reply.started": "2022-02-09T08:49:13.750648Z"
    },
    "jupyter": {
     "outputs_hidden": false
    },
    "pycharm": {
     "name": "#%%\n"
    },
    "tags": []
   },
   "outputs": [],
   "source": [
    "metadata_ns_vars_smp['Nextstrain_clade'].value_counts()"
   ]
  },
  {
   "cell_type": "markdown",
   "metadata": {
    "tags": []
   },
   "source": [
    "## Fetch sample metadata using q2-fondue\n",
    "Fetch metadata for the pre-selected sequences using q2-fondue's `get-metadata` action. We will then use this metadata to filter out samples containing single-end reads only and merge those with the original Nextstrain metadata. Finally, we will subsample those to get the final list of genomes to fetch, stratified per virus variant. "
   ]
  },
  {
   "cell_type": "code",
   "execution_count": null,
   "metadata": {
    "execution": {
     "iopub.execute_input": "2022-02-09T08:49:13.762866Z",
     "iopub.status.busy": "2022-02-09T08:49:13.762556Z",
     "iopub.status.idle": "2022-02-09T08:49:13.774263Z",
     "shell.execute_reply": "2022-02-09T08:49:13.773679Z",
     "shell.execute_reply.started": "2022-02-09T08:49:13.762831Z"
    },
    "tags": []
   },
   "outputs": [],
   "source": [
    "# we will be fetching metadata in several batches, due to large ID count \n",
    "ids = metadata_ns_vars_smp.index.to_list()\n",
    "ids_chunked = [ids[i:i + 4000] for i in range(0, metadata_ns_vars_smp.shape[0], 4000)]"
   ]
  },
  {
   "cell_type": "code",
   "execution_count": null,
   "metadata": {
    "execution": {
     "iopub.execute_input": "2022-02-09T08:49:13.775340Z",
     "iopub.status.busy": "2022-02-09T08:49:13.775184Z",
     "iopub.status.idle": "2022-02-09T08:49:14.970074Z",
     "shell.execute_reply": "2022-02-09T08:49:14.969541Z",
     "shell.execute_reply.started": "2022-02-09T08:49:13.775323Z"
    },
    "tags": []
   },
   "outputs": [],
   "source": [
    "all_meta = []\n",
    "if not os.path.isfile(sra_metadata_path):\n",
    "    for i, _ids in enumerate(ids_chunked):\n",
    "        print(f'-----Fetching metadata - batch {i + 1} out of {len(ids_chunked)}...-----')\n",
    "        current_batch_loc = os.path.join(data_loc, f'sra_meta_batch{i}.qza')\n",
    "        _ids = pd.Series(_ids, name='ID')\n",
    "        \n",
    "        if not os.path.isfile(current_batch_loc):\n",
    "            sra_meta, failed_ids, = fondue.methods.get_metadata(\n",
    "                accession_ids=q2.Artifact.import_data('NCBIAccessionIDs', _ids),\n",
    "                email=email,\n",
    "                n_jobs=n_jobs,\n",
    "                log_level='WARNING'\n",
    "            )\n",
    "            sra_meta.save(current_batch_loc)\n",
    "            failed_ids.save(os.path.join(data_loc, f'sra_failed_ids_batch{i}.qza'))\n",
    "        else:\n",
    "            print(f'Reading current SRA meta batch from file {current_batch_loc}...')\n",
    "            sra_meta = q2.Artifact.load(current_batch_loc)\n",
    "            \n",
    "        all_meta.append(sra_meta)\n",
    "        del sra_meta\n",
    "    \n",
    "    # merge metadata from all the batches\n",
    "    sra_meta, = fondue.methods.merge_metadata(\n",
    "        metadata=all_meta\n",
    "    )\n",
    "    sra_meta_df = sra_meta.view(pd.DataFrame)\n",
    "    sra_meta_df.to_csv(sra_metadata_path, sep='\\t')\n",
    "    \n",
    "    # clean up\n",
    "    del all_meta\n",
    "else:\n",
    "    print(f'Metadata artifact exists and will be read from {sra_metadata_path}.')\n",
    "    sra_meta_df = pd.read_csv(sra_metadata_path, sep='\\t', index_col=0)"
   ]
  },
  {
   "cell_type": "markdown",
   "metadata": {},
   "source": [
    "## Merge SRA and Nextstrain metadata\n",
    "Merge SRA metadata with Nextstrain metadata and re-sample only __single-end short__ reads."
   ]
  },
  {
   "cell_type": "code",
   "execution_count": null,
   "metadata": {
    "execution": {
     "iopub.execute_input": "2022-02-09T08:49:14.971001Z",
     "iopub.status.busy": "2022-02-09T08:49:14.970794Z",
     "iopub.status.idle": "2022-02-09T08:49:18.220094Z",
     "shell.execute_reply": "2022-02-09T08:49:18.219340Z",
     "shell.execute_reply.started": "2022-02-09T08:49:14.970974Z"
    },
    "tags": []
   },
   "outputs": [],
   "source": [
    "sra_meta_smp_df = metadata_ns_vars_smp.merge(sra_meta_df, left_index=True, right_index=True)\n",
    "sra_meta_smp_df.shape"
   ]
  },
  {
   "cell_type": "code",
   "execution_count": null,
   "metadata": {
    "execution": {
     "iopub.execute_input": "2022-02-09T08:49:18.221047Z",
     "iopub.status.busy": "2022-02-09T08:49:18.220877Z",
     "iopub.status.idle": "2022-02-09T08:49:18.659130Z",
     "shell.execute_reply": "2022-02-09T08:49:18.658345Z",
     "shell.execute_reply.started": "2022-02-09T08:49:18.221002Z"
    },
    "tags": []
   },
   "outputs": [],
   "source": [
    "selection = \\\n",
    "    (sra_meta_smp_df['Instrument'].str.contains('NextSeq 550')) & \\\n",
    "    (sra_meta_smp_df['Library Layout'] == 'SINGLE')\n",
    "\n",
    "sra_meta_smp_df = sra_meta_smp_df[selection]"
   ]
  },
  {
   "cell_type": "code",
   "execution_count": null,
   "metadata": {
    "execution": {
     "iopub.execute_input": "2022-02-09T08:49:18.660114Z",
     "iopub.status.busy": "2022-02-09T08:49:18.659955Z",
     "iopub.status.idle": "2022-02-09T08:49:18.695894Z",
     "shell.execute_reply": "2022-02-09T08:49:18.695399Z",
     "shell.execute_reply.started": "2022-02-09T08:49:18.660082Z"
    },
    "tags": []
   },
   "outputs": [],
   "source": [
    "sra_meta_smp_df_gr = sra_meta_smp_df.groupby(['Nextstrain_clade_grouped']).count()\n",
    "sra_meta_smp_df_gr.iloc[:,:2]"
   ]
  },
  {
   "cell_type": "markdown",
   "metadata": {},
   "source": [
    "Find the largest possible sample size."
   ]
  },
  {
   "cell_type": "code",
   "execution_count": null,
   "metadata": {
    "execution": {
     "iopub.execute_input": "2022-02-09T08:49:18.696783Z",
     "iopub.status.busy": "2022-02-09T08:49:18.696632Z",
     "iopub.status.idle": "2022-02-09T08:49:18.700210Z",
     "shell.execute_reply": "2022-02-09T08:49:18.699846Z",
     "shell.execute_reply.started": "2022-02-09T08:49:18.696748Z"
    },
    "tags": []
   },
   "outputs": [],
   "source": [
    "n = sra_meta_smp_df_gr.iloc[:, 0].min()\n",
    "n = n if n < genomes_per_variant else genomes_per_variant\n",
    "print(f'Taking a sample of {n} genomes per variant.')"
   ]
  },
  {
   "cell_type": "code",
   "execution_count": null,
   "metadata": {
    "execution": {
     "iopub.execute_input": "2022-02-09T08:49:18.700967Z",
     "iopub.status.busy": "2022-02-09T08:49:18.700795Z",
     "iopub.status.idle": "2022-02-09T08:49:22.335768Z",
     "shell.execute_reply": "2022-02-09T08:49:22.335020Z",
     "shell.execute_reply.started": "2022-02-09T08:49:18.700939Z"
    },
    "tags": []
   },
   "outputs": [],
   "source": [
    "sra_meta_smp_df = metadata_ns_vars_smp.merge(\n",
    "    sra_meta_df, left_index=True, right_index=True\n",
    ")\n",
    "\n",
    "sra_meta_smp_df = sample_variants(\n",
    "    sra_meta_smp_df[selection], n=n,\n",
    "    grouping_col='Nextstrain_clade_grouped', random_state=random_seed\n",
    ")\n",
    "sra_meta_smp_df['Public'] = sra_meta_smp_df['Public'].astype(str)\n",
    "sra_meta_smp_df.shape"
   ]
  },
  {
   "cell_type": "code",
   "execution_count": null,
   "metadata": {
    "execution": {
     "iopub.execute_input": "2022-02-09T08:49:22.336869Z",
     "iopub.status.busy": "2022-02-09T08:49:22.336708Z",
     "iopub.status.idle": "2022-02-09T08:49:22.341994Z",
     "shell.execute_reply": "2022-02-09T08:49:22.341521Z",
     "shell.execute_reply.started": "2022-02-09T08:49:22.336826Z"
    },
    "tags": []
   },
   "outputs": [],
   "source": [
    "# check count of samples per variant\n",
    "sra_meta_smp_df['Nextstrain_clade_grouped'].value_counts()"
   ]
  },
  {
   "cell_type": "markdown",
   "metadata": {},
   "source": [
    "Save merged & sampled metadata to file."
   ]
  },
  {
   "cell_type": "code",
   "execution_count": null,
   "metadata": {
    "execution": {
     "iopub.execute_input": "2022-02-09T08:49:22.342832Z",
     "iopub.status.busy": "2022-02-09T08:49:22.342564Z",
     "iopub.status.idle": "2022-02-09T08:49:22.362383Z",
     "shell.execute_reply": "2022-02-09T08:49:22.361710Z",
     "shell.execute_reply.started": "2022-02-09T08:49:22.342805Z"
    },
    "jupyter": {
     "outputs_hidden": false
    },
    "pycharm": {
     "name": "#%%\n"
    },
    "tags": []
   },
   "outputs": [],
   "source": [
    "if not os.path.isfile(metadata_merged_path):\n",
    "    sra_meta_smp_df.to_csv(metadata_merged_path, sep='\\t')\n",
    "    print('Saved sample metadata to', metadata_merged_path)"
   ]
  },
  {
   "cell_type": "markdown",
   "metadata": {
    "tags": []
   },
   "source": [
    "## Fetch SARS-CoV-2 genomes using q2-fondue\n",
    "We can use IDs from our final metadata table to fetch all the corresponding sequencing files from the SRA using `q2-fondue`'s `get-sequences` action."
   ]
  },
  {
   "cell_type": "code",
   "execution_count": null,
   "metadata": {
    "execution": {
     "iopub.execute_input": "2022-02-09T08:49:22.363289Z",
     "iopub.status.busy": "2022-02-09T08:49:22.363120Z",
     "iopub.status.idle": "2022-02-09T08:49:22.368201Z",
     "shell.execute_reply": "2022-02-09T08:49:22.367911Z",
     "shell.execute_reply.started": "2022-02-09T08:49:22.363263Z"
    },
    "tags": []
   },
   "outputs": [],
   "source": [
    "single_reads_out = os.path.join(data_loc, 'sars-single.qza')"
   ]
  },
  {
   "cell_type": "code",
   "execution_count": null,
   "metadata": {
    "execution": {
     "iopub.execute_input": "2022-02-09T08:49:22.368937Z",
     "iopub.status.busy": "2022-02-09T08:49:22.368776Z",
     "iopub.status.idle": "2022-02-09T08:51:54.287897Z",
     "shell.execute_reply": "2022-02-09T08:51:54.286920Z",
     "shell.execute_reply.started": "2022-02-09T08:49:22.368902Z"
    },
    "tags": []
   },
   "outputs": [],
   "source": [
    "if not os.path.isfile(single_reads_out):\n",
    "    _ids = pd.Series(sra_meta_smp_df.index.to_list(), name='ID')\n",
    "    single_reads, _, _ = fondue.methods.get_sequences(\n",
    "        accession_ids=q2.Artifact.import_data('NCBIAccessionIDs', _ids), \n",
    "        email=email,\n",
    "        n_jobs=n_jobs\n",
    "    )\n",
    "    single_reads.save(single_reads_out)\n",
    "else:\n",
    "    print(f'Single-reads artifact exists and will be read from {single_reads_out}.')\n",
    "    single_reads = q2.Artifact.load(single_reads_out)"
   ]
  },
  {
   "cell_type": "markdown",
   "metadata": {},
   "source": [
    "## Quality control of the sequences\n",
    "Before proceeding to the next step, we can assess the quality of the retrieved dataset using the `summarize` action from the `q2-demux` plugin."
   ]
  },
  {
   "cell_type": "code",
   "execution_count": null,
   "metadata": {
    "execution": {
     "iopub.execute_input": "2022-02-09T08:51:54.289430Z",
     "iopub.status.busy": "2022-02-09T08:51:54.289136Z",
     "iopub.status.idle": "2022-02-09T08:51:54.306870Z",
     "shell.execute_reply": "2022-02-09T08:51:54.306245Z",
     "shell.execute_reply.started": "2022-02-09T08:51:54.289388Z"
    },
    "tags": []
   },
   "outputs": [],
   "source": [
    "qc_viz_out = os.path.join(data_loc, 'qc-viz.qzv')\n",
    "if not os.path.isfile(qc_viz_out):\n",
    "    qc_viz, = demux.visualizers.summarize(\n",
    "        data=single_reads\n",
    "    )\n",
    "    qc_viz.save(qc_viz_out)\n",
    "else:\n",
    "    print(f'Quality control artifact exists and will be read from {qc_viz_out}.')\n",
    "    qc_viz = q2.Visualization.load(qc_viz_out)"
   ]
  },
  {
   "cell_type": "code",
   "execution_count": null,
   "metadata": {
    "execution": {
     "iopub.execute_input": "2022-02-09T08:51:54.307833Z",
     "iopub.status.busy": "2022-02-09T08:51:54.307626Z",
     "iopub.status.idle": "2022-02-09T08:51:54.313423Z",
     "shell.execute_reply": "2022-02-09T08:51:54.313063Z",
     "shell.execute_reply.started": "2022-02-09T08:51:54.307805Z"
    },
    "tags": []
   },
   "outputs": [],
   "source": [
    "qc_viz"
   ]
  },
  {
   "cell_type": "markdown",
   "metadata": {},
   "source": [
    "## Data clean-up: sequence trimming\n",
    "As can be seen in the visualization above, the data is already of good quality. We will just perform one additional cleaning step to remove sequences shorter than 35bp and with error rates higher than 0.01."
   ]
  },
  {
   "cell_type": "code",
   "execution_count": null,
   "metadata": {
    "execution": {
     "iopub.execute_input": "2022-02-09T08:51:54.314098Z",
     "iopub.status.busy": "2022-02-09T08:51:54.313974Z",
     "iopub.status.idle": "2022-02-09T08:54:55.278035Z",
     "shell.execute_reply": "2022-02-09T08:54:55.276866Z",
     "shell.execute_reply.started": "2022-02-09T08:51:54.314085Z"
    },
    "tags": []
   },
   "outputs": [],
   "source": [
    "trimmed_out = os.path.join(data_loc, 'sars-single-trimmed.qza')\n",
    "if not os.path.isfile(trimmed_out):\n",
    "    single_reads_trimmed, = cutadapt.methods.trim_single(\n",
    "        demultiplexed_sequences=single_reads,\n",
    "        error_rate=0.01,\n",
    "        minimum_length=35,\n",
    "        cores=n_jobs\n",
    "    )\n",
    "    single_reads_trimmed.save(trimmed_out)\n",
    "else:\n",
    "    print(f'Trimmed reads artifact exists and will be read from {trimmed_out}.')\n",
    "    single_reads_trimmed = q2.Artifact.load(trimmed_out)"
   ]
  },
  {
   "cell_type": "code",
   "execution_count": null,
   "metadata": {
    "execution": {
     "iopub.execute_input": "2022-02-09T08:54:55.282895Z",
     "iopub.status.busy": "2022-02-09T08:54:55.282516Z",
     "iopub.status.idle": "2022-02-09T08:54:55.299129Z",
     "shell.execute_reply": "2022-02-09T08:54:55.298572Z",
     "shell.execute_reply.started": "2022-02-09T08:54:55.282831Z"
    },
    "tags": []
   },
   "outputs": [],
   "source": [
    "trimmed_viz_out = os.path.join(data_loc, 'qc-viz-trimmed.qzv')\n",
    "if not os.path.isfile(trimmed_viz_out):\n",
    "    qc_viz_trimmed, = demux.visualizers.summarize(\n",
    "        data=single_reads_trimmed\n",
    "    )\n",
    "    qc_viz_trimmed.save(trimmed_viz_out)\n",
    "else:\n",
    "    print(f'Trimmed reads visualization exists and will be read from {trimmed_viz_out}.')\n",
    "    qc_viz_trimmed = q2.Visualization.load(trimmed_viz_out)\n",
    "qc_viz_trimmed"
   ]
  },
  {
   "cell_type": "markdown",
   "metadata": {},
   "source": [
    "## Calculate and compare MinHash signatures for every genome\n",
    "Having checked the data quality, we will proceed to calculating the MinHash signatures of every genome using `q2-sourmash`. First, we calculate the hashes from the short reads using the `compute` action. Subsequently, we generate a distance matrix comparing hashes pairwise (using the `compare` action)."
   ]
  },
  {
   "cell_type": "code",
   "execution_count": null,
   "metadata": {
    "execution": {
     "iopub.execute_input": "2022-02-09T08:54:55.299956Z",
     "iopub.status.busy": "2022-02-09T08:54:55.299776Z",
     "iopub.status.idle": "2022-02-09T08:55:09.786331Z",
     "shell.execute_reply": "2022-02-09T08:55:09.784880Z",
     "shell.execute_reply.started": "2022-02-09T08:54:55.299927Z"
    },
    "tags": []
   },
   "outputs": [],
   "source": [
    "genome_hash_out = os.path.join(data_loc, 'genome-hash-trimmed.qza')\n",
    "if not os.path.isfile(genome_hash_out):\n",
    "    genome_hash, = sourmash.methods.compute(\n",
    "        sequence_file=single_reads_trimmed,\n",
    "        ksizes=31,\n",
    "        scaled=10\n",
    "    )\n",
    "    genome_hash.save(genome_hash_out)\n",
    "else:\n",
    "    print(f'Genome hashes artifact exists and will be read from {genome_hash_out}.')\n",
    "    genome_hash = q2.Artifact.load(genome_hash_out)"
   ]
  },
  {
   "cell_type": "code",
   "execution_count": null,
   "metadata": {
    "execution": {
     "iopub.execute_input": "2022-02-09T08:55:09.788557Z",
     "iopub.status.busy": "2022-02-09T08:55:09.788214Z",
     "iopub.status.idle": "2022-02-09T08:55:09.893546Z",
     "shell.execute_reply": "2022-02-09T08:55:09.892981Z",
     "shell.execute_reply.started": "2022-02-09T08:55:09.788490Z"
    },
    "tags": []
   },
   "outputs": [],
   "source": [
    "hash_compare_out = os.path.join(data_loc, 'hash-compare-trimmed.qza')\n",
    "if not os.path.isfile(hash_compare_out):\n",
    "    hash_compare, = sourmash.methods.compare(\n",
    "        min_hash_signature=genome_hash,\n",
    "        ksize=31\n",
    "    )\n",
    "    hash_compare.save(hash_compare_out)\n",
    "else:\n",
    "    print(f'Distance matrix artifact exists and will be read from {hash_compare_out}.')\n",
    "    hash_compare = q2.Artifact.load(hash_compare_out)"
   ]
  },
  {
   "cell_type": "markdown",
   "metadata": {},
   "source": [
    "## Perform dimensionality reduction of the genome MinHash distance matrix\n",
    "Finally, a 2D t-SNE plot is generated from the obtained distance matrix (`tsne` method from the `q2-diversity` plugin) and visualized using the EMPeror plot (`plot` action from the `q2-emperor` plugin)."
   ]
  },
  {
   "cell_type": "code",
   "execution_count": null,
   "metadata": {
    "execution": {
     "iopub.execute_input": "2022-02-09T08:55:09.894413Z",
     "iopub.status.busy": "2022-02-09T08:55:09.894303Z",
     "iopub.status.idle": "2022-02-09T08:55:10.718357Z",
     "shell.execute_reply": "2022-02-09T08:55:10.717832Z",
     "shell.execute_reply.started": "2022-02-09T08:55:09.894401Z"
    },
    "tags": []
   },
   "outputs": [],
   "source": [
    "genome_tsne, = diversity.methods.tsne(\n",
    "    distance_matrix=hash_compare,\n",
    "    learning_rate=125,\n",
    "    perplexity=18\n",
    ")"
   ]
  },
  {
   "cell_type": "code",
   "execution_count": null,
   "metadata": {
    "execution": {
     "iopub.execute_input": "2022-02-09T08:55:10.719222Z",
     "iopub.status.busy": "2022-02-09T08:55:10.718944Z",
     "iopub.status.idle": "2022-02-09T08:55:10.722162Z",
     "shell.execute_reply": "2022-02-09T08:55:10.721646Z",
     "shell.execute_reply.started": "2022-02-09T08:55:10.719195Z"
    },
    "tags": []
   },
   "outputs": [],
   "source": [
    "cols = ['Nextstrain_clade_grouped', 'Nextstrain_clade', 'Instrument']"
   ]
  },
  {
   "cell_type": "code",
   "execution_count": null,
   "metadata": {
    "execution": {
     "iopub.execute_input": "2022-02-09T08:55:10.723167Z",
     "iopub.status.busy": "2022-02-09T08:55:10.722866Z",
     "iopub.status.idle": "2022-02-09T08:55:10.749948Z",
     "shell.execute_reply": "2022-02-09T08:55:10.749399Z",
     "shell.execute_reply.started": "2022-02-09T08:55:10.723137Z"
    },
    "tags": []
   },
   "outputs": [],
   "source": [
    "emperor_plot_out = os.path.join(data_loc, 'emperor-plot-trimmed.qzv')\n",
    "if not os.path.isfile(emperor_plot_out):\n",
    "    emperor_plot, = emperor.visualizers.plot(\n",
    "        pcoa=genome_tsne,\n",
    "        metadata=q2.Metadata(sra_meta_smp_df[cols])\n",
    "    )\n",
    "    emperor_plot.save(emperor_plot_out)\n",
    "else:\n",
    "    print(f'Emperor plot artifact exists and will be read from {emperor_plot_out}.')\n",
    "    emperor_plot = q2.Visualization.load(emperor_plot_out)"
   ]
  },
  {
   "cell_type": "code",
   "execution_count": null,
   "metadata": {
    "execution": {
     "iopub.execute_input": "2022-02-09T08:55:10.751124Z",
     "iopub.status.busy": "2022-02-09T08:55:10.750936Z",
     "iopub.status.idle": "2022-02-09T08:55:10.755220Z",
     "shell.execute_reply": "2022-02-09T08:55:10.754616Z",
     "shell.execute_reply.started": "2022-02-09T08:55:10.751093Z"
    },
    "tags": []
   },
   "outputs": [],
   "source": [
    "emperor_plot"
   ]
  },
  {
   "cell_type": "markdown",
   "metadata": {},
   "source": [
    "We can also use the results above to generate our own plots using any of the Python plotting libraries - see below."
   ]
  },
  {
   "cell_type": "code",
   "execution_count": null,
   "metadata": {
    "execution": {
     "iopub.execute_input": "2022-02-09T10:24:00.340166Z",
     "iopub.status.busy": "2022-02-09T10:24:00.339915Z",
     "iopub.status.idle": "2022-02-09T10:24:00.492327Z",
     "shell.execute_reply": "2022-02-09T10:24:00.491538Z",
     "shell.execute_reply.started": "2022-02-09T10:24:00.340122Z"
    },
    "tags": []
   },
   "outputs": [],
   "source": [
    "tsne_table = genome_tsne.view(skbio.OrdinationResults)\n",
    "tsne_df = tsne_table.samples"
   ]
  },
  {
   "cell_type": "code",
   "execution_count": null,
   "metadata": {
    "execution": {
     "iopub.execute_input": "2022-02-09T14:16:09.705257Z",
     "iopub.status.busy": "2022-02-09T14:16:09.704685Z",
     "iopub.status.idle": "2022-02-09T14:16:09.750919Z",
     "shell.execute_reply": "2022-02-09T14:16:09.750043Z",
     "shell.execute_reply.started": "2022-02-09T14:16:09.705182Z"
    }
   },
   "outputs": [],
   "source": [
    "# switch to inline plotting\n",
    "%matplotlib inline"
   ]
  },
  {
   "cell_type": "code",
   "execution_count": null,
   "metadata": {
    "execution": {
     "iopub.execute_input": "2022-02-09T14:18:01.942316Z",
     "iopub.status.busy": "2022-02-09T14:18:01.941624Z",
     "iopub.status.idle": "2022-02-09T14:18:02.446307Z",
     "shell.execute_reply": "2022-02-09T14:18:02.445217Z",
     "shell.execute_reply.started": "2022-02-09T14:18:01.942212Z"
    },
    "tags": []
   },
   "outputs": [],
   "source": [
    "# create a 2D plot of Dim1 vs Dim2\n",
    "\n",
    "sns.set(rc={'figure.figsize':(8, 8), 'font.family': ['Arial']}, style='white')\n",
    "with sns.plotting_context(\"notebook\", font_scale=1.2):\n",
    "    fig = plt.figure()\n",
    "    ax = fig.add_subplot(111)\n",
    "\n",
    "    ax.set_xlabel(f'Axis 1')\n",
    "    ax.set_ylabel(f'Axis 2')\n",
    "    \n",
    "    sns.scatterplot(\n",
    "        x=tsne_df.iloc[:, 0],\n",
    "        y=tsne_df.iloc[:, 1],\n",
    "        s=70,\n",
    "        hue=sra_meta_smp_df['Nextstrain_clade_grouped'],\n",
    "        ax=ax,\n",
    "        alpha=0.75\n",
    "    )\n",
    "\n",
    "    ax.set_xticks([])\n",
    "    ax.set_yticks([])\n",
    "    \n",
    "    plt.tight_layout()"
   ]
  },
  {
   "cell_type": "code",
   "execution_count": null,
   "metadata": {
    "execution": {
     "iopub.execute_input": "2022-02-09T14:18:06.903083Z",
     "iopub.status.busy": "2022-02-09T14:18:06.902477Z",
     "iopub.status.idle": "2022-02-09T14:18:07.093177Z",
     "shell.execute_reply": "2022-02-09T14:18:07.092362Z",
     "shell.execute_reply.started": "2022-02-09T14:18:06.902988Z"
    },
    "tags": []
   },
   "outputs": [],
   "source": [
    "fig.savefig(os.path.join(data_loc, 'sars_cov_2_tsne.eps'))"
   ]
  },
  {
   "cell_type": "markdown",
   "metadata": {},
   "source": [
    "We can see from the plots above that when the `Nextclade_clade_grouped` column is used to color the data points, genomes group into distinct clusters corresponding to their variant assignment. The best visible is the Omicron variant that forms a single cluster, next to Alpha and Delta which both form their own (multiple smaller) clusters."
   ]
  },
  {
   "cell_type": "markdown",
   "metadata": {
    "tags": []
   },
   "source": [
    "## Classify samples using hash signatures\n",
    "We can also more quantitatively test whether MinHash genome signatures generated by _sourmash_ are predictive of SARS-CoV-2 genome variant. To do that we can use the `classify_samples_from_dist` method from the `q2-sample-classifier` plugin."
   ]
  },
  {
   "cell_type": "code",
   "execution_count": null,
   "metadata": {
    "execution": {
     "iopub.execute_input": "2022-02-09T14:16:21.730017Z",
     "iopub.status.busy": "2022-02-09T14:16:21.729342Z",
     "iopub.status.idle": "2022-02-09T14:16:21.763580Z",
     "shell.execute_reply": "2022-02-09T14:16:21.762920Z",
     "shell.execute_reply.started": "2022-02-09T14:16:21.729917Z"
    },
    "tags": []
   },
   "outputs": [],
   "source": [
    "predictions_out = os.path.join(data_loc, 'predictions.qza')\n",
    "accuracy_out = os.path.join(data_loc, 'accuracy.qzv')\n",
    "if not os.path.isfile(predictions_out):\n",
    "    predictions, accuracy, = sample_classifier.pipelines.classify_samples_from_dist(\n",
    "        distance_matrix=hash_compare,\n",
    "        metadata = q2.CategoricalMetadataColumn(sra_meta_smp_df['Nextstrain_clade_grouped']),\n",
    "        k=3,\n",
    "        cv=10,\n",
    "        random_state=random_seed,\n",
    "        n_jobs=n_jobs\n",
    "    )\n",
    "    predictions.save(predictions_out)\n",
    "    accuracy.save(accuracy_out)\n",
    "else:\n",
    "    print(f'Classification artifacts exist and will be read from {predictions_out} and {accuracy_out}.')\n",
    "    predictions = q2.Artifact.load(predictions_out)\n",
    "    accuracy = q2.Visualization.load(accuracy_out)"
   ]
  },
  {
   "cell_type": "code",
   "execution_count": null,
   "metadata": {
    "execution": {
     "iopub.execute_input": "2022-02-09T14:16:26.086115Z",
     "iopub.status.busy": "2022-02-09T14:16:26.085659Z",
     "iopub.status.idle": "2022-02-09T14:16:26.093250Z",
     "shell.execute_reply": "2022-02-09T14:16:26.092215Z",
     "shell.execute_reply.started": "2022-02-09T14:16:26.086050Z"
    },
    "tags": []
   },
   "outputs": [],
   "source": [
    "accuracy"
   ]
  },
  {
   "cell_type": "markdown",
   "metadata": {
    "pycharm": {
     "name": "#%% md\n"
    }
   },
   "source": [
    "Virus variants can be sucessfully classified using only genome hashes with a high degree of accuracy (~93%). Importantly, a more detailed analysis would be required to investigate the potential influence of variables that were not controlled for in this analysis (e.g., geographic location of the samples). The `test_size = 0` warning can be disregarded here: classification was evaluated using 10-fold cross-validation."
   ]
  }
 ],
 "metadata": {
  "kernelspec": {
   "display_name": "Python 3 (ipykernel)",
   "language": "python",
   "name": "python3"
  },
  "language_info": {
   "codemirror_mode": {
    "name": "ipython",
    "version": 3
   },
   "file_extension": ".py",
   "mimetype": "text/x-python",
   "name": "python",
   "nbconvert_exporter": "python",
   "pygments_lexer": "ipython3",
   "version": "3.8.12"
  }
 },
 "nbformat": 4,
 "nbformat_minor": 4
}