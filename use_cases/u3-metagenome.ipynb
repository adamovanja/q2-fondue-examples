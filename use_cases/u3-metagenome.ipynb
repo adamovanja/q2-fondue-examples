{
 "cells": [
  {
   "cell_type": "markdown",
   "id": "42370c79-4522-49e8-8738-aca622a8cc4c",
   "metadata": {},
   "source": [
    "## Setup\n",
    "\n",
    "Necessary imports, variable and function definitions.\n",
    "\n",
    "__Note:__ Execution of the sequence-based part of this notebook requires a very large amount of disk space (>1TB)."
   ]
  },
  {
   "cell_type": "code",
   "execution_count": null,
   "id": "f45ffbd5-862f-45a6-bf62-0e2fb87c99bd",
   "metadata": {
    "execution": {
     "iopub.execute_input": "2022-03-09T06:27:24.636653Z",
     "iopub.status.busy": "2022-03-09T06:27:24.636296Z",
     "iopub.status.idle": "2022-03-09T06:27:24.645612Z",
     "shell.execute_reply": "2022-03-09T06:27:24.645280Z",
     "shell.execute_reply.started": "2022-03-09T06:27:24.636592Z"
    },
    "tags": []
   },
   "outputs": [],
   "source": [
    "import os\n",
    "\n",
    "import matplotlib.pyplot as plt\n",
    "import skbio\n",
    "import pandas as pd\n",
    "import qiime2 as q2\n",
    "import seaborn as sns\n",
    "\n",
    "from qiime2.plugins import (\n",
    "    fondue, coordinates, demux, sourmash, \n",
    "    cutadapt, diversity, emperor\n",
    ")\n",
    "\n",
    "%matplotlib inline\n",
    "\n",
    "results_path = 'u3-metagenome-results'\n",
    "if not os.path.isdir(results_path):\n",
    "    os.mkdir(results_path)"
   ]
  },
  {
   "cell_type": "code",
   "execution_count": null,
   "id": "a15cc005",
   "metadata": {
    "collapsed": false,
    "execution": {
     "iopub.execute_input": "2022-03-08T20:12:36.345114Z",
     "iopub.status.busy": "2022-03-08T20:12:36.344790Z",
     "iopub.status.idle": "2022-03-08T20:12:36.350356Z",
     "shell.execute_reply": "2022-03-08T20:12:36.349893Z",
     "shell.execute_reply.started": "2022-03-08T20:12:36.345056Z"
    },
    "jupyter": {
     "outputs_hidden": false
    },
    "pycharm": {
     "name": "#%%\n"
    },
    "tags": []
   },
   "outputs": [],
   "source": [
    "email = 'your@email.com'\n",
    "n_jobs = 8\n",
    "random_seed = 1\n",
    "\n",
    "marine_meta_path = os.path.join(results_path, 'tara_metadata.tsv')\n",
    "marine_meta_clean_path = os.path.join(results_path, 'tara_metadata_clean.tsv')"
   ]
  },
  {
   "cell_type": "code",
   "execution_count": null,
   "id": "48190d13-bbbf-41db-92ee-413c002c1ffa",
   "metadata": {
    "execution": {
     "iopub.execute_input": "2022-03-08T20:12:36.875397Z",
     "iopub.status.busy": "2022-03-08T20:12:36.875021Z",
     "iopub.status.idle": "2022-03-08T20:12:36.883495Z",
     "shell.execute_reply": "2022-03-08T20:12:36.882751Z",
     "shell.execute_reply.started": "2022-03-08T20:12:36.875335Z"
    },
    "tags": []
   },
   "outputs": [],
   "source": [
    "def clean_up_column(df, col, max_value):\n",
    "    \"\"\"\n",
    "    Cleans up specified DataFrame column by converting it\n",
    "    to a numeric type and removing values beyond the\n",
    "    indicated maximum.\n",
    "    \"\"\"\n",
    "    if isinstance(df.iloc[0][col], str):\n",
    "        df = df[~marine_meta_df[col].str.contains('-')]\n",
    "    df[col] = pd.to_numeric(df[col])\n",
    "    df = df[df[col] < max_value]\n",
    "    return df"
   ]
  },
  {
   "cell_type": "markdown",
   "id": "06a5b0d0-99cd-4c8a-93eb-a8230f4385c7",
   "metadata": {},
   "source": [
    "## Fetch TARA Oceans shotgun metagenome metadata\n",
    "\n",
    "We will fetch metadata for all the **shotgun sequencing experiments** for size fractionated samples taken all over the world (including the Polar Circle). For overview of BioProject IDs see the [respective entry on ENA](https://www.ebi.ac.uk/ena/browser/view/PRJEB402)."
   ]
  },
  {
   "cell_type": "code",
   "execution_count": null,
   "id": "504d96df-87fa-4cca-8798-e9feb3f041dc",
   "metadata": {
    "execution": {
     "iopub.execute_input": "2022-03-08T20:12:37.624499Z",
     "iopub.status.busy": "2022-03-08T20:12:37.624265Z",
     "iopub.status.idle": "2022-03-08T20:12:37.671516Z",
     "shell.execute_reply": "2022-03-08T20:12:37.670803Z",
     "shell.execute_reply.started": "2022-03-08T20:12:37.624460Z"
    },
    "tags": []
   },
   "outputs": [],
   "source": [
    "ids = ['PRJEB1787', 'PRJEB4352', 'PRJEB4419', 'PRJEB9691', 'PRJEB9740', 'PRJEB9742']\n",
    "ids = pd.Series(ids, name='ID')\n",
    "ids = q2.Artifact.import_data('NCBIAccessionIDs', ids)"
   ]
  },
  {
   "cell_type": "code",
   "execution_count": null,
   "id": "3ef46f23-b80d-4f3a-b8f0-04bc16b76bb6",
   "metadata": {
    "execution": {
     "iopub.execute_input": "2022-03-08T20:12:37.930163Z",
     "iopub.status.busy": "2022-03-08T20:12:37.930019Z",
     "iopub.status.idle": "2022-03-08T20:12:37.967799Z",
     "shell.execute_reply": "2022-03-08T20:12:37.967155Z",
     "shell.execute_reply.started": "2022-03-08T20:12:37.930149Z"
    },
    "tags": []
   },
   "outputs": [],
   "source": [
    "if not os.path.isfile(marine_meta_path):\n",
    "    marine_meta, _,  = fondue.methods.get_metadata(\n",
    "        accession_ids=ids,\n",
    "        email=email,\n",
    "        n_jobs=n_jobs,\n",
    "        log_level='WARNING'\n",
    "    )\n",
    "    marine_meta_df = marine_meta.view(pd.DataFrame)\n",
    "    marine_meta_df.to_csv(marine_meta_path, sep='\\t', header=True, index=True)\n",
    "else:\n",
    "    marine_meta_df = pd.read_csv(marine_meta_path, sep='\\t', index_col=0)\n",
    "    marine_meta_df['Public'] = marine_meta_df['Public'].astype(str)\n",
    "    print(f'Metadata was read from file \"{marine_meta_path}\"')\n",
    "    \n",
    "print(f'Metadata table contains {marine_meta_df.shape[0]} samples and {marine_meta_df.shape[1]} columns.')    "
   ]
  },
  {
   "cell_type": "markdown",
   "id": "c0b6eeb2-f62c-4617-9a2d-046ce7ec4331",
   "metadata": {},
   "source": [
    "## Investigate and clean up the metadata\n",
    "We will look what columns are available in the metadata table and prepare it for the following analysis."
   ]
  },
  {
   "cell_type": "code",
   "execution_count": null,
   "id": "0edc7d88-c17e-4409-911a-c5dd4a2487cb",
   "metadata": {
    "execution": {
     "iopub.execute_input": "2022-03-08T20:12:38.428586Z",
     "iopub.status.busy": "2022-03-08T20:12:38.428204Z",
     "iopub.status.idle": "2022-03-08T20:12:38.458875Z",
     "shell.execute_reply": "2022-03-08T20:12:38.458267Z",
     "shell.execute_reply.started": "2022-03-08T20:12:38.428506Z"
    },
    "tags": []
   },
   "outputs": [],
   "source": [
    "marine_meta_df.head()"
   ]
  },
  {
   "cell_type": "code",
   "execution_count": null,
   "id": "386c3eb5-371f-4c1e-897b-e63d9b2db219",
   "metadata": {
    "execution": {
     "iopub.execute_input": "2022-03-08T20:12:38.662544Z",
     "iopub.status.busy": "2022-03-08T20:12:38.662023Z",
     "iopub.status.idle": "2022-03-08T20:12:38.671783Z",
     "shell.execute_reply": "2022-03-08T20:12:38.670569Z",
     "shell.execute_reply.started": "2022-03-08T20:12:38.662326Z"
    },
    "tags": []
   },
   "outputs": [],
   "source": [
    "marine_meta_df.columns"
   ]
  },
  {
   "cell_type": "markdown",
   "id": "3f107713-4547-4f8f-9e78-1896855e08cc",
   "metadata": {},
   "source": [
    "As we want to plot the geographical location of all the samples, we will clean up the required columns."
   ]
  },
  {
   "cell_type": "code",
   "execution_count": null,
   "id": "6b8a9ba7-6d75-4420-a439-54662c7b3003",
   "metadata": {
    "execution": {
     "iopub.execute_input": "2022-03-08T20:12:39.212521Z",
     "iopub.status.busy": "2022-03-08T20:12:39.212175Z",
     "iopub.status.idle": "2022-03-08T20:12:39.226205Z",
     "shell.execute_reply": "2022-03-08T20:12:39.225772Z",
     "shell.execute_reply.started": "2022-03-08T20:12:39.212466Z"
    },
    "tags": []
   },
   "outputs": [],
   "source": [
    "# remove NaN values\n",
    "marine_meta_df = marine_meta_df[\n",
    "    marine_meta_df['Latitude start [sample]'].notna() & marine_meta_df['Longitude start [sample]'].notna()\n",
    "]\n",
    "marine_meta_df.shape"
   ]
  },
  {
   "cell_type": "code",
   "execution_count": null,
   "id": "d962f85f-a31e-4c00-86be-41bc9bbc6a53",
   "metadata": {
    "execution": {
     "iopub.execute_input": "2022-03-08T20:12:39.455563Z",
     "iopub.status.busy": "2022-03-08T20:12:39.455200Z",
     "iopub.status.idle": "2022-03-08T20:12:39.463669Z",
     "shell.execute_reply": "2022-03-08T20:12:39.462873Z",
     "shell.execute_reply.started": "2022-03-08T20:12:39.455508Z"
    },
    "tags": []
   },
   "outputs": [],
   "source": [
    "# ensure correct data type\n",
    "for col in ['Latitude start [sample]', 'Longitude start [sample]']:\n",
    "    marine_meta_df[col] = pd.to_numeric(marine_meta_df[col])"
   ]
  },
  {
   "cell_type": "code",
   "execution_count": null,
   "id": "b7daad04-50bf-4f92-ac42-ae46e6d125e1",
   "metadata": {
    "execution": {
     "iopub.execute_input": "2022-03-08T20:12:39.711345Z",
     "iopub.status.busy": "2022-03-08T20:12:39.710965Z",
     "iopub.status.idle": "2022-03-08T20:12:39.748214Z",
     "shell.execute_reply": "2022-03-08T20:12:39.747449Z",
     "shell.execute_reply.started": "2022-03-08T20:12:39.711282Z"
    },
    "tags": []
   },
   "outputs": [],
   "source": [
    "# ensure correct value range\n",
    "marine_meta_df = marine_meta_df[\n",
    "    (-90 <= marine_meta_df['Latitude start [sample]']) &  (marine_meta_df['Latitude start [sample]'] <= 90) & \\\n",
    "    (-180 <= marine_meta_df['Longitude start [sample]']) &  (marine_meta_df['Longitude start [sample]'] <= 180)\n",
    "]\n",
    "marine_meta_df.shape"
   ]
  },
  {
   "cell_type": "markdown",
   "id": "ec06f364-a39c-44c3-9fd0-984a39c91fe2",
   "metadata": {},
   "source": [
    "We will be exploring some other metadata columns - let's clean those up as well."
   ]
  },
  {
   "cell_type": "code",
   "execution_count": null,
   "id": "a4a36e98-2e88-408a-931f-ae53915a7ab8",
   "metadata": {
    "execution": {
     "iopub.execute_input": "2022-03-08T20:12:40.196045Z",
     "iopub.status.busy": "2022-03-08T20:12:40.195584Z",
     "iopub.status.idle": "2022-03-08T20:12:40.224790Z",
     "shell.execute_reply": "2022-03-08T20:12:40.224148Z",
     "shell.execute_reply.started": "2022-03-08T20:12:40.195987Z"
    },
    "tags": []
   },
   "outputs": [],
   "source": [
    "# ensure correct value ranges\n",
    "columns = (\n",
    "    'Temperature [sample]', 'Depth [sample]', 'Salinity sensor [sample]', \n",
    "    'Oxygen sensor [sample]', 'Nitrate sensor [sample]', 'Chlorophyll sensor [sample]'\n",
    ")\n",
    "max_vals = (100, 1000, 100, 500, 100, 10)\n",
    "\n",
    "for col, max_val in zip(columns, max_vals):\n",
    "    marine_meta_df = clean_up_column(marine_meta_df, col, max_val)\n",
    "    print(col, marine_meta_df.shape)"
   ]
  },
  {
   "cell_type": "markdown",
   "id": "00bb5421-c767-4a6c-b053-b700c6a83422",
   "metadata": {},
   "source": [
    "We can also parse the date columns into the datetime format (and convert to string, as required by QIIME 2):"
   ]
  },
  {
   "cell_type": "code",
   "execution_count": null,
   "id": "23c7ab94-79c3-41ab-a58c-6605b49cadf1",
   "metadata": {
    "execution": {
     "iopub.execute_input": "2022-03-08T20:12:40.687718Z",
     "iopub.status.busy": "2022-03-08T20:12:40.687277Z",
     "iopub.status.idle": "2022-03-08T20:12:40.709876Z",
     "shell.execute_reply": "2022-03-08T20:12:40.709240Z",
     "shell.execute_reply.started": "2022-03-08T20:12:40.687666Z"
    },
    "tags": []
   },
   "outputs": [],
   "source": [
    "for col in ('Event date/time start [sample]', 'Event date/time end [sample]'):\n",
    "    marine_meta_df[col] = pd.to_datetime(marine_meta_df[col], utc=True)\n",
    "    marine_meta_df[col] = marine_meta_df[col].dt.strftime('%Y-%m-%d')"
   ]
  },
  {
   "cell_type": "markdown",
   "id": "b26508c8-bf01-483e-b5d1-6be27f97686b",
   "metadata": {},
   "source": [
    "Finally, we save cleaned metadata to file."
   ]
  },
  {
   "cell_type": "code",
   "execution_count": null,
   "id": "d8ce5fb8-4641-468f-a64b-dec9f0cd5379",
   "metadata": {
    "execution": {
     "iopub.execute_input": "2022-03-08T20:12:41.166232Z",
     "iopub.status.busy": "2022-03-08T20:12:41.165891Z",
     "iopub.status.idle": "2022-03-08T20:12:41.172523Z",
     "shell.execute_reply": "2022-03-08T20:12:41.171438Z",
     "shell.execute_reply.started": "2022-03-08T20:12:41.166190Z"
    },
    "tags": []
   },
   "outputs": [],
   "source": [
    "if not os.path.isfile(marine_meta_clean_path):\n",
    "    marine_meta_df.to_csv(marine_meta_clean_path, sep='\\t', header=True, index=True)"
   ]
  },
  {
   "cell_type": "markdown",
   "id": "4a173521-ff95-4ff7-a1cc-ff9de66d1fbd",
   "metadata": {},
   "source": [
    "## Summarize samples\n",
    "The samples we fetched belong to several BioProjects which correspond to fractions obtained through size fractionation used to separate viruses, bacteria and protists from one another. Let's first see how many samples we have per project:"
   ]
  },
  {
   "cell_type": "code",
   "execution_count": null,
   "id": "c5f657d2-a9ec-4e87-8f38-d3bbd70b6db5",
   "metadata": {
    "execution": {
     "iopub.execute_input": "2022-03-08T20:12:41.625327Z",
     "iopub.status.busy": "2022-03-08T20:12:41.624985Z",
     "iopub.status.idle": "2022-03-08T20:12:41.767918Z",
     "shell.execute_reply": "2022-03-08T20:12:41.767265Z",
     "shell.execute_reply.started": "2022-03-08T20:12:41.625271Z"
    },
    "tags": []
   },
   "outputs": [],
   "source": [
    "sample_counts = marine_meta_df['Bioproject ID'].value_counts()\n",
    "\n",
    "sns.set(rc={'figure.figsize':(12, 5), 'font.family': ['Arial']}, style='white')\n",
    "with sns.plotting_context(\"notebook\", font_scale=1.2):\n",
    "    ax = sns.barplot(x=sample_counts.index, y=sample_counts.values, color='dodgerblue')\n",
    "\n",
    "    ax.set_xlabel('BioProject ID')\n",
    "    ax.set_ylabel('Sample count')\n",
    "    \n",
    "    sns.despine(left=True)"
   ]
  },
  {
   "cell_type": "markdown",
   "id": "7ab21e73-a388-4325-bbb4-47bdc0a6da58",
   "metadata": {},
   "source": [
    "We can also visualize size range for each fraction using the lower and upper limits provided in the metadata table."
   ]
  },
  {
   "cell_type": "code",
   "execution_count": null,
   "id": "d79194da-78f9-43c3-8b01-6351842d40b4",
   "metadata": {
    "execution": {
     "iopub.execute_input": "2022-03-08T20:12:42.109718Z",
     "iopub.status.busy": "2022-03-08T20:12:42.109389Z",
     "iopub.status.idle": "2022-03-08T20:12:42.122327Z",
     "shell.execute_reply": "2022-03-08T20:12:42.122043Z",
     "shell.execute_reply.started": "2022-03-08T20:12:42.109683Z"
    },
    "tags": []
   },
   "outputs": [],
   "source": [
    "replace_dict = {'<': 0, '>': 10000}\n",
    "\n",
    "fractions = marine_meta_df.loc[:,\n",
    "    ['Size fraction lower threshold [sample]', 'Size fraction upper threshold [sample]', 'Bioproject ID']\n",
    "].replace(replace_dict)\n",
    "\n",
    "for col in ('Size fraction lower threshold [sample]', 'Size fraction upper threshold [sample]'):\n",
    "    fractions[col] = fractions[col].astype(float)"
   ]
  },
  {
   "cell_type": "code",
   "execution_count": null,
   "id": "7ac4870b-5ca9-4279-a6f1-a83ce1670d52",
   "metadata": {
    "execution": {
     "iopub.execute_input": "2022-03-08T20:12:42.336519Z",
     "iopub.status.busy": "2022-03-08T20:12:42.336164Z",
     "iopub.status.idle": "2022-03-08T20:12:42.351800Z",
     "shell.execute_reply": "2022-03-08T20:12:42.351381Z",
     "shell.execute_reply.started": "2022-03-08T20:12:42.336450Z"
    },
    "tags": []
   },
   "outputs": [],
   "source": [
    "fractions = fractions \\\n",
    "    .groupby(['Size fraction lower threshold [sample]', 'Size fraction upper threshold [sample]']) \\\n",
    "    .count()['Bioproject ID'] \\\n",
    "    .unstack()"
   ]
  },
  {
   "cell_type": "code",
   "execution_count": null,
   "id": "9a45cebe-cb64-4b4d-bcf2-d32cfec8e51b",
   "metadata": {
    "execution": {
     "iopub.execute_input": "2022-03-08T20:12:42.580001Z",
     "iopub.status.busy": "2022-03-08T20:12:42.579611Z",
     "iopub.status.idle": "2022-03-08T20:12:42.775296Z",
     "shell.execute_reply": "2022-03-08T20:12:42.774768Z",
     "shell.execute_reply.started": "2022-03-08T20:12:42.579922Z"
    },
    "tags": []
   },
   "outputs": [],
   "source": [
    "sns.set(rc={'figure.figsize':(10, 8), 'font.family': ['Arial']}, style='white')\n",
    "with sns.plotting_context(\"notebook\", font_scale=1.4):\n",
    "    ax = sns.heatmap(data=fractions)\n",
    "\n",
    "    ax.set_xlabel('Fraction upper threshold [μm]')\n",
    "    ax.set_ylabel('Fraction lower threshold [μm]')\n",
    "    \n",
    "    ax.invert_yaxis()\n",
    "    \n",
    "    xlabels = ax.get_xticklabels()\n",
    "    xlabels[-1] = '>'\n",
    "    ylabels = ax.get_yticklabels()\n",
    "    ylabels[0] = '<'\n",
    "    ax.set_yticklabels(ylabels, rotation=0)\n",
    "    ax.set_xticklabels(xlabels, rotation=0)"
   ]
  },
  {
   "cell_type": "code",
   "execution_count": null,
   "id": "518ae16d-9cbe-4723-936a-14b8f4011ec4",
   "metadata": {
    "execution": {
     "iopub.execute_input": "2022-03-08T20:12:42.831145Z",
     "iopub.status.busy": "2022-03-08T20:12:42.830932Z",
     "iopub.status.idle": "2022-03-08T20:12:42.900663Z",
     "shell.execute_reply": "2022-03-08T20:12:42.899897Z",
     "shell.execute_reply.started": "2022-03-08T20:12:42.831102Z"
    },
    "tags": []
   },
   "outputs": [],
   "source": [
    "# switch off inline mode to correctly display QIIME 2 visualizations\n",
    "%matplotlib auto"
   ]
  },
  {
   "cell_type": "markdown",
   "id": "035cefb6-742d-488b-b276-074291235482",
   "metadata": {},
   "source": [
    "## Visualize selected metadata using samples' geographic coordinates\n",
    "We can use the [**q2-coordinates**](https://github.com/bokulich-lab/q2-coordinates) plugin to visualize a variety of sensor values (and other metadata) according to their geographical locations."
   ]
  },
  {
   "cell_type": "code",
   "execution_count": null,
   "id": "174ffb39-dac4-45b1-968c-98d37a5c84f9",
   "metadata": {
    "execution": {
     "iopub.execute_input": "2022-03-08T20:12:43.812771Z",
     "iopub.status.busy": "2022-03-08T20:12:43.812398Z",
     "iopub.status.idle": "2022-03-08T20:12:43.838221Z",
     "shell.execute_reply": "2022-03-08T20:12:43.836945Z",
     "shell.execute_reply.started": "2022-03-08T20:12:43.812699Z"
    },
    "tags": []
   },
   "outputs": [],
   "source": [
    "n_samples = 100\n",
    "latitude_col = 'Latitude start [sample]'\n",
    "longitude_col = 'Longitude start [sample]'\n",
    "\n",
    "marine_smp = marine_meta_df.sample(n=n_samples, random_state=random_seed)\n",
    "marine_smp.shape"
   ]
  },
  {
   "cell_type": "markdown",
   "id": "5a018b66-b49b-4381-aa30-ffacca4fb6ae",
   "metadata": {},
   "source": [
    "### TARA Oceans expedition progress\n",
    "We will use the sampling date as a categorical variable to display progress of the expedition."
   ]
  },
  {
   "cell_type": "code",
   "execution_count": null,
   "id": "f160498b-93ad-4be9-9764-7fe66f8ed7a4",
   "metadata": {
    "execution": {
     "iopub.execute_input": "2022-03-08T20:12:44.825341Z",
     "iopub.status.busy": "2022-03-08T20:12:44.824965Z",
     "iopub.status.idle": "2022-03-08T20:12:45.739701Z",
     "shell.execute_reply": "2022-03-08T20:12:45.738858Z",
     "shell.execute_reply.started": "2022-03-08T20:12:44.825269Z"
    },
    "tags": []
   },
   "outputs": [],
   "source": [
    "sorted_samples = marine_smp.sort_values(by='Event date/time start [sample]', ascending=False)\n",
    "\n",
    "progress_map, = coordinates.visualizers.draw_interactive_map(\n",
    "    metadata=q2.Metadata(sorted_samples),\n",
    "    latitude=latitude_col,\n",
    "    longitude=longitude_col,\n",
    "    column='Event date/time start [sample]',\n",
    "    color_palette='magma'\n",
    ")\n",
    "progress_map"
   ]
  },
  {
   "cell_type": "markdown",
   "id": "abf78804-b885-4d44-969c-040a782b02c0",
   "metadata": {},
   "source": [
    "### Temperature"
   ]
  },
  {
   "cell_type": "code",
   "execution_count": null,
   "id": "6d8d8bc6-f6f0-4215-9762-a0aca739bd3e",
   "metadata": {
    "execution": {
     "iopub.execute_input": "2022-03-08T20:12:45.741030Z",
     "iopub.status.busy": "2022-03-08T20:12:45.740690Z",
     "iopub.status.idle": "2022-03-08T20:12:45.962251Z",
     "shell.execute_reply": "2022-03-08T20:12:45.961812Z",
     "shell.execute_reply.started": "2022-03-08T20:12:45.740992Z"
    },
    "tags": []
   },
   "outputs": [],
   "source": [
    "temp_map, = coordinates.visualizers.draw_interactive_map(\n",
    "    metadata=q2.Metadata(marine_smp),\n",
    "    latitude=latitude_col,\n",
    "    longitude=longitude_col,\n",
    "    column='Temperature [sample]'\n",
    ")\n",
    "temp_map"
   ]
  },
  {
   "cell_type": "markdown",
   "id": "202563eb-2d39-469b-a330-5ff98de04fc8",
   "metadata": {},
   "source": [
    "### Depth"
   ]
  },
  {
   "cell_type": "code",
   "execution_count": null,
   "id": "5c23122d-4a86-49e6-aec8-5cdedc0c182b",
   "metadata": {
    "execution": {
     "iopub.execute_input": "2022-03-08T20:12:46.043475Z",
     "iopub.status.busy": "2022-03-08T20:12:46.043203Z",
     "iopub.status.idle": "2022-03-08T20:12:46.288180Z",
     "shell.execute_reply": "2022-03-08T20:12:46.287516Z",
     "shell.execute_reply.started": "2022-03-08T20:12:46.043403Z"
    },
    "tags": []
   },
   "outputs": [],
   "source": [
    "depth_map, = coordinates.visualizers.draw_interactive_map(\n",
    "    metadata=q2.Metadata(marine_smp),\n",
    "    latitude=latitude_col,\n",
    "    longitude=longitude_col,\n",
    "    column='Depth [sample]',\n",
    "    color_palette='viridis'\n",
    ")\n",
    "depth_map"
   ]
  },
  {
   "cell_type": "markdown",
   "id": "8985898d-4b97-4189-87df-75e4b7690835",
   "metadata": {},
   "source": [
    "### Salinity"
   ]
  },
  {
   "cell_type": "code",
   "execution_count": null,
   "id": "863820e0-6812-4fab-ad91-599b9df299e5",
   "metadata": {
    "execution": {
     "iopub.execute_input": "2022-03-08T20:12:46.639745Z",
     "iopub.status.busy": "2022-03-08T20:12:46.639522Z",
     "iopub.status.idle": "2022-03-08T20:12:46.865234Z",
     "shell.execute_reply": "2022-03-08T20:12:46.864421Z",
     "shell.execute_reply.started": "2022-03-08T20:12:46.639699Z"
    },
    "tags": []
   },
   "outputs": [],
   "source": [
    "salinity_map, = coordinates.visualizers.draw_interactive_map(\n",
    "    metadata=q2.Metadata(marine_smp),\n",
    "    latitude=latitude_col,\n",
    "    longitude=longitude_col,\n",
    "    column='Salinity sensor [sample]'\n",
    ")\n",
    "salinity_map"
   ]
  },
  {
   "cell_type": "markdown",
   "id": "78d4a312-41ec-4dbd-a2b0-dc85a1a5bff4",
   "metadata": {},
   "source": [
    "### Oxygen content"
   ]
  },
  {
   "cell_type": "code",
   "execution_count": null,
   "id": "774eebd5-c4c7-4191-98d9-994e1f0d4411",
   "metadata": {
    "execution": {
     "iopub.execute_input": "2022-03-08T20:12:47.222660Z",
     "iopub.status.busy": "2022-03-08T20:12:47.222316Z",
     "iopub.status.idle": "2022-03-08T20:12:47.450434Z",
     "shell.execute_reply": "2022-03-08T20:12:47.449714Z",
     "shell.execute_reply.started": "2022-03-08T20:12:47.222625Z"
    },
    "tags": []
   },
   "outputs": [],
   "source": [
    "oxygen_map, = coordinates.visualizers.draw_interactive_map(\n",
    "    metadata=q2.Metadata(marine_smp),\n",
    "    latitude=latitude_col,\n",
    "    longitude=longitude_col,\n",
    "    column='Oxygen sensor [sample]',\n",
    "    color_palette='viridis'\n",
    ")\n",
    "oxygen_map"
   ]
  },
  {
   "cell_type": "markdown",
   "id": "28871463-5054-408c-a127-281aa5d9db03",
   "metadata": {},
   "source": [
    "### Nitrate content"
   ]
  },
  {
   "cell_type": "code",
   "execution_count": null,
   "id": "b0d592ee-4b7d-47dc-8fc1-88ff7a6f6fb8",
   "metadata": {
    "execution": {
     "iopub.execute_input": "2022-03-08T20:12:48.189730Z",
     "iopub.status.busy": "2022-03-08T20:12:48.189375Z",
     "iopub.status.idle": "2022-03-08T20:12:48.421892Z",
     "shell.execute_reply": "2022-03-08T20:12:48.421457Z",
     "shell.execute_reply.started": "2022-03-08T20:12:48.189670Z"
    },
    "tags": []
   },
   "outputs": [],
   "source": [
    "nitrate_map, = coordinates.visualizers.draw_interactive_map(\n",
    "    metadata=q2.Metadata(marine_smp),\n",
    "    latitude=latitude_col,\n",
    "    longitude=longitude_col,\n",
    "    column='Nitrate sensor [sample]',\n",
    "    color_palette='viridis'\n",
    ")\n",
    "nitrate_map"
   ]
  },
  {
   "cell_type": "markdown",
   "id": "b248a77f-625b-4355-8c23-9ff2baed297a",
   "metadata": {},
   "source": [
    "### Chlorophyll content"
   ]
  },
  {
   "cell_type": "code",
   "execution_count": null,
   "id": "bb1ccb23-1ad9-4121-9f18-d29a29b521f1",
   "metadata": {
    "execution": {
     "iopub.execute_input": "2022-03-08T20:12:49.701037Z",
     "iopub.status.busy": "2022-03-08T20:12:49.700660Z",
     "iopub.status.idle": "2022-03-08T20:12:49.928000Z",
     "shell.execute_reply": "2022-03-08T20:12:49.927364Z",
     "shell.execute_reply.started": "2022-03-08T20:12:49.700971Z"
    },
    "pycharm": {
     "name": "#%%\n"
    },
    "tags": []
   },
   "outputs": [],
   "source": [
    "chlorophyll_map, = coordinates.visualizers.draw_interactive_map(\n",
    "    metadata=q2.Metadata(marine_smp),\n",
    "    latitude=latitude_col,\n",
    "    longitude=longitude_col,\n",
    "    column='Chlorophyll sensor [sample]',\n",
    "    color_palette='terrain'\n",
    ")\n",
    "chlorophyll_map"
   ]
  },
  {
   "cell_type": "markdown",
   "id": "6285a8f4-d0bf-427d-bf91-d5390861d3ac",
   "metadata": {},
   "source": [
    "## Fetch a sample of metagenome sequences using q2-fondue\n",
    "We can now fetch sequences corresponding to some of those 100 samples that we visualized above. We will only focus on samples from two different locations (5 samples per location; 10 samples total) as they correspond to a very large amount of data. We begin by identifying locations that were multiple samples are available."
   ]
  },
  {
   "cell_type": "code",
   "execution_count": null,
   "id": "740cba8c-2a74-45a2-ae7d-9bbb14402f95",
   "metadata": {
    "execution": {
     "iopub.execute_input": "2022-03-08T20:12:51.985670Z",
     "iopub.status.busy": "2022-03-08T20:12:51.985046Z",
     "iopub.status.idle": "2022-03-08T20:12:51.991906Z",
     "shell.execute_reply": "2022-03-08T20:12:51.990688Z",
     "shell.execute_reply.started": "2022-03-08T20:12:51.985601Z"
    },
    "tags": []
   },
   "outputs": [],
   "source": [
    "lat_col, lon_col = 'Latitude end [sample]', 'Longitude end [sample]'"
   ]
  },
  {
   "cell_type": "code",
   "execution_count": null,
   "id": "bc9691bb-ad79-4b4a-8bf0-5b98008c7f77",
   "metadata": {
    "execution": {
     "iopub.execute_input": "2022-03-08T20:12:52.337458Z",
     "iopub.status.busy": "2022-03-08T20:12:52.337223Z",
     "iopub.status.idle": "2022-03-08T20:12:52.353453Z",
     "shell.execute_reply": "2022-03-08T20:12:52.353067Z",
     "shell.execute_reply.started": "2022-03-08T20:12:52.337420Z"
    },
    "tags": []
   },
   "outputs": [],
   "source": [
    "# find all locations with exactly 5 samples\n",
    "loc_counts = marine_meta_df.groupby([lat_col, lon_col]).count()\n",
    "loc_counts_multi = loc_counts[loc_counts['Experiment ID'] == 5]\n",
    "loc_counts_multi.shape"
   ]
  },
  {
   "cell_type": "code",
   "execution_count": null,
   "id": "126737bc-1b05-410d-8213-1cbe26ff2e75",
   "metadata": {
    "execution": {
     "iopub.execute_input": "2022-03-08T20:12:52.731942Z",
     "iopub.status.busy": "2022-03-08T20:12:52.731587Z",
     "iopub.status.idle": "2022-03-08T20:12:52.740896Z",
     "shell.execute_reply": "2022-03-08T20:12:52.739775Z",
     "shell.execute_reply.started": "2022-03-08T20:12:52.731888Z"
    },
    "tags": []
   },
   "outputs": [],
   "source": [
    "# draw two locations of the previous list\n",
    "loc_smp = loc_counts_multi.sample(n=2, random_state=random_seed)\n",
    "lats = loc_smp.index.get_level_values(lat_col).tolist()\n",
    "lons = loc_smp.index.get_level_values(lon_col).tolist()"
   ]
  },
  {
   "cell_type": "code",
   "execution_count": null,
   "id": "b1d45a6f-ffe0-4a0c-8272-5ffca3779a4b",
   "metadata": {
    "execution": {
     "iopub.execute_input": "2022-03-09T06:53:00.641207Z",
     "iopub.status.busy": "2022-03-09T06:53:00.640853Z",
     "iopub.status.idle": "2022-03-09T06:53:00.656804Z",
     "shell.execute_reply": "2022-03-09T06:53:00.656513Z",
     "shell.execute_reply.started": "2022-03-09T06:53:00.641146Z"
    },
    "tags": []
   },
   "outputs": [],
   "source": [
    "marine_loc_smp = marine_meta_df[\n",
    "    marine_meta_df[lat_col].isin(lats) & \\\n",
    "    marine_meta_df[lon_col].isin(lons)\n",
    "]\n",
    "marine_loc_smp.groupby([lat_col, lon_col]).count().iloc[:, :2]"
   ]
  },
  {
   "cell_type": "markdown",
   "id": "7374bf39-fd3c-4423-ae35-4721e6c84843",
   "metadata": {},
   "source": [
    "Finally, we are ready to download the actual sequences."
   ]
  },
  {
   "cell_type": "code",
   "execution_count": null,
   "id": "507ef895-43c7-4b4f-ba57-b7670b6a6130",
   "metadata": {
    "execution": {
     "iopub.execute_input": "2022-03-08T20:12:55.856693Z",
     "iopub.status.busy": "2022-03-08T20:12:55.856260Z",
     "iopub.status.idle": "2022-03-08T20:12:55.863096Z",
     "shell.execute_reply": "2022-03-08T20:12:55.862122Z",
     "shell.execute_reply.started": "2022-03-08T20:12:55.856626Z"
    },
    "tags": []
   },
   "outputs": [],
   "source": [
    "single_reads_out = os.path.join(results_path, 'tara-single.qza')\n",
    "paired_reads_out = os.path.join(results_path, 'tara-paired.qza')"
   ]
  },
  {
   "cell_type": "code",
   "execution_count": null,
   "id": "c8ade8de-ce08-4fc1-89b4-697bd754f67b",
   "metadata": {
    "execution": {
     "iopub.execute_input": "2022-03-06T21:23:55.956658Z",
     "iopub.status.busy": "2022-03-06T21:23:55.956274Z",
     "iopub.status.idle": "2022-03-06T22:02:30.370060Z",
     "shell.execute_reply": "2022-03-06T22:02:30.368570Z",
     "shell.execute_reply.started": "2022-03-06T21:23:55.956583Z"
    },
    "tags": []
   },
   "outputs": [],
   "source": [
    "if not os.path.isfile(paired_reads_out):\n",
    "    _ids = pd.Series(marine_loc_smp.index.to_list(), name='ID')\n",
    "    _, paired_reads, _ = fondue.methods.get_sequences(\n",
    "        accession_ids=q2.Artifact.import_data('NCBIAccessionIDs', _ids), \n",
    "        email=email,\n",
    "        n_jobs=n_jobs\n",
    "    )\n",
    "    paired_reads.save(paired_reads_out)\n",
    "else:\n",
    "    print(f'Paired-reads artifact exists and will be read from {paired_reads_out}.')\n",
    "    paired_reads = q2.Artifact.load(paired_reads_out)"
   ]
  },
  {
   "cell_type": "markdown",
   "id": "6222ddae-2157-4bb4-8d75-e2a9ec1ccab9",
   "metadata": {},
   "source": [
    "## Subsample the reads\n",
    "We will subsample the reads in every sample to 20% of the original count to reduce the amount of data. The final sample will become an artifact containing only single-end reads that were drawn from both, forward and reverse, reads in the paired-end artifact."
   ]
  },
  {
   "cell_type": "code",
   "execution_count": null,
   "id": "80b97ef4-ac45-45f0-a5d8-27704581fcab",
   "metadata": {
    "execution": {
     "iopub.execute_input": "2022-03-08T21:51:59.763310Z",
     "iopub.status.busy": "2022-03-08T21:51:59.763178Z",
     "iopub.status.idle": "2022-03-09T03:05:14.983826Z",
     "shell.execute_reply": "2022-03-09T03:05:14.983044Z",
     "shell.execute_reply.started": "2022-03-08T21:51:59.763297Z"
    },
    "tags": []
   },
   "outputs": [],
   "source": [
    "single_reads_smp_out = os.path.join(results_path, 'single-reads-smp.qza')\n",
    "if not os.path.isfile(single_reads_smp_out):\n",
    "    single_reads_smp, = demux.methods.subsample_single(\n",
    "        sequences=paired_reads,\n",
    "        fraction=0.2\n",
    "    )\n",
    "    single_reads_smp.save(single_reads_smp_out)\n",
    "else:\n",
    "    print(f'Subsampled single-reads artifact exists and will be read from {single_reads_smp_out}.')\n",
    "    single_reads_smp = q2.Artifact.load(single_reads_smp_out)"
   ]
  },
  {
   "cell_type": "markdown",
   "id": "081e6a95-72d3-4b6f-98c8-021e9f14b408",
   "metadata": {},
   "source": [
    "## Calculate and compare MinHash signatures for every metagenome\n",
    "We will calculate MinHash signatures of every sample (metagenome) using `q2-sourmash`. First, we calculate the hashes from the short reads using the `compute` action. Subsequently, we generate a distance matrix comparing hashes pairwise (using the `compare` action)."
   ]
  },
  {
   "cell_type": "code",
   "execution_count": null,
   "id": "46c265ef-6e37-4183-832b-605dff0ec51c",
   "metadata": {
    "execution": {
     "iopub.execute_input": "2022-03-09T03:05:14.986173Z",
     "iopub.status.busy": "2022-03-09T03:05:14.985794Z",
     "iopub.status.idle": "2022-03-09T03:44:34.338323Z",
     "shell.execute_reply": "2022-03-09T03:44:34.337653Z",
     "shell.execute_reply.started": "2022-03-09T03:05:14.986124Z"
    },
    "tags": []
   },
   "outputs": [],
   "source": [
    "genome_hash_out = os.path.join(results_path, 'genome-hash.qza')\n",
    "if not os.path.isfile(genome_hash_out):\n",
    "    genome_hash, = sourmash.methods.compute(\n",
    "        sequence_file=single_reads_smp,\n",
    "        ksizes=31,\n",
    "        scaled=1000\n",
    "    )\n",
    "    genome_hash.save(genome_hash_out)\n",
    "else:\n",
    "    print(f'Genome hashes artifact exists and will be read from {genome_hash_out}.')\n",
    "    genome_hash = q2.Artifact.load(genome_hash_out)"
   ]
  },
  {
   "cell_type": "code",
   "execution_count": null,
   "id": "f8fe5945-a233-426e-9b01-9861de750082",
   "metadata": {
    "execution": {
     "iopub.execute_input": "2022-03-09T06:06:17.524872Z",
     "iopub.status.busy": "2022-03-09T06:06:17.524498Z",
     "iopub.status.idle": "2022-03-09T06:06:21.528075Z",
     "shell.execute_reply": "2022-03-09T06:06:21.527301Z",
     "shell.execute_reply.started": "2022-03-09T06:06:17.524835Z"
    },
    "tags": []
   },
   "outputs": [],
   "source": [
    "hash_compare_out = os.path.join(results_path, 'hash-compare.qza')\n",
    "if not os.path.isfile(hash_compare_out):\n",
    "    hash_compare, = sourmash.methods.compare(\n",
    "        min_hash_signature=genome_hash,\n",
    "        ksize=31\n",
    "    )\n",
    "    hash_compare.save(hash_compare_out)\n",
    "else:\n",
    "    print(f'Distance matrix artifact exists and will be read from {hash_compare_out}.')\n",
    "    hash_compare = q2.Artifact.load(hash_compare_out)"
   ]
  },
  {
   "cell_type": "markdown",
   "id": "dd1194d2-092a-4916-b7f7-67ed1c46e4b3",
   "metadata": {},
   "source": [
    "## Perform dimensionality reduction of the metagenome MinHash distance matrix\n",
    "Finally, a 2D PCoA plot is generated from the obtained distance matrix (`pcoa` method from the `q2-diversity` plugin) and visualized using the EMPeror plot (`plot` action from the `q2-emperor` plugin)."
   ]
  },
  {
   "cell_type": "code",
   "execution_count": null,
   "id": "c88822fb-1f60-4961-ac93-9c366ca6ad51",
   "metadata": {
    "execution": {
     "iopub.execute_input": "2022-03-09T06:06:26.452708Z",
     "iopub.status.busy": "2022-03-09T06:06:26.452452Z",
     "iopub.status.idle": "2022-03-09T06:06:26.502843Z",
     "shell.execute_reply": "2022-03-09T06:06:26.502548Z",
     "shell.execute_reply.started": "2022-03-09T06:06:26.452664Z"
    },
    "tags": []
   },
   "outputs": [],
   "source": [
    "genome_pcoa, = diversity.methods.pcoa(\n",
    "    distance_matrix=hash_compare,\n",
    ")"
   ]
  },
  {
   "cell_type": "code",
   "execution_count": null,
   "id": "116323a3-e703-4e1f-a219-5385053fd6e5",
   "metadata": {
    "execution": {
     "iopub.execute_input": "2022-03-09T06:07:25.736956Z",
     "iopub.status.busy": "2022-03-09T06:07:25.736474Z",
     "iopub.status.idle": "2022-03-09T06:07:25.939541Z",
     "shell.execute_reply": "2022-03-09T06:07:25.938582Z",
     "shell.execute_reply.started": "2022-03-09T06:07:25.736886Z"
    },
    "tags": []
   },
   "outputs": [],
   "source": [
    "emperor_plot_out = os.path.join(results_path, 'emperor-plot.qzv')\n",
    "if not os.path.isfile(emperor_plot_out):\n",
    "    emperor_plot, = emperor.visualizers.plot(\n",
    "        pcoa=genome_pcoa,\n",
    "        metadata=q2.Metadata(marine_loc_smp)\n",
    "    )\n",
    "    emperor_plot.save(emperor_plot_out)\n",
    "else:\n",
    "    print(f'Emperor plot artifact exists and will be read from {emperor_plot_out}.')\n",
    "    emperor_plot = q2.Visualization.load(emperor_plot_out)"
   ]
  },
  {
   "cell_type": "code",
   "execution_count": null,
   "id": "df9d5aa3-00a0-4e4e-9a8c-583191d7fb87",
   "metadata": {
    "execution": {
     "iopub.execute_input": "2022-03-09T06:07:27.184985Z",
     "iopub.status.busy": "2022-03-09T06:07:27.184604Z",
     "iopub.status.idle": "2022-03-09T06:07:27.193119Z",
     "shell.execute_reply": "2022-03-09T06:07:27.191946Z",
     "shell.execute_reply.started": "2022-03-09T06:07:27.184917Z"
    },
    "tags": []
   },
   "outputs": [],
   "source": [
    "emperor_plot"
   ]
  },
  {
   "cell_type": "markdown",
   "id": "cf2d67de-3498-4dd8-b43a-6da3ed04caed",
   "metadata": {},
   "source": [
    "We can also use the results above to generate our own plots using any of the Python plotting libraries - see below."
   ]
  },
  {
   "cell_type": "code",
   "execution_count": null,
   "id": "9e98781f-fbb2-418d-ad33-559bed5f334d",
   "metadata": {
    "execution": {
     "iopub.execute_input": "2022-03-09T06:25:35.847922Z",
     "iopub.status.busy": "2022-03-09T06:25:35.847593Z",
     "iopub.status.idle": "2022-03-09T06:25:35.856381Z",
     "shell.execute_reply": "2022-03-09T06:25:35.855872Z",
     "shell.execute_reply.started": "2022-03-09T06:25:35.847855Z"
    },
    "tags": []
   },
   "outputs": [],
   "source": [
    "pcoa_table = genome_pcoa.view(skbio.OrdinationResults)\n",
    "pcoa_df = pcoa_table.samples"
   ]
  },
  {
   "cell_type": "code",
   "execution_count": null,
   "id": "85678a1e-ccd0-4be0-9d64-ca88173e7534",
   "metadata": {
    "execution": {
     "iopub.execute_input": "2022-03-09T06:25:37.321145Z",
     "iopub.status.busy": "2022-03-09T06:25:37.320108Z",
     "iopub.status.idle": "2022-03-09T06:25:37.328403Z",
     "shell.execute_reply": "2022-03-09T06:25:37.327029Z",
     "shell.execute_reply.started": "2022-03-09T06:25:37.321080Z"
    }
   },
   "outputs": [],
   "source": [
    "# switch to inline plotting\n",
    "%matplotlib inline"
   ]
  },
  {
   "cell_type": "code",
   "execution_count": null,
   "id": "50cfd784-0936-43b8-b975-28c135aad58c",
   "metadata": {
    "execution": {
     "iopub.execute_input": "2022-03-09T07:24:45.736763Z",
     "iopub.status.busy": "2022-03-09T07:24:45.736563Z",
     "iopub.status.idle": "2022-03-09T07:24:45.834942Z",
     "shell.execute_reply": "2022-03-09T07:24:45.834252Z",
     "shell.execute_reply.started": "2022-03-09T07:24:45.736725Z"
    },
    "tags": []
   },
   "outputs": [],
   "source": [
    "# create a 2D plot of Dim1 vs Dim2\n",
    "\n",
    "sns.set(rc={'figure.figsize':(8, 8), 'font.family': ['Arial']}, style='white')\n",
    "with sns.plotting_context(\"notebook\", font_scale=1.2):\n",
    "    fig = plt.figure()\n",
    "    ax = fig.add_subplot(111)\n",
    "\n",
    "    ax.set_xlabel(f'Axis 1 ({round(100 * pcoa_table.proportion_explained[0], 2)}%)')\n",
    "    ax.set_ylabel(f'Axis 2 ({round(100 * pcoa_table.proportion_explained[1], 2)}%)')\n",
    "    \n",
    "    sns.scatterplot(\n",
    "        x=pcoa_df.iloc[:, 0],\n",
    "        y=pcoa_df.iloc[:, 1],\n",
    "        s=200,\n",
    "        hue=marine_loc_smp['Latitude end [sample]'],\n",
    "        palette='Dark2',\n",
    "        ax=ax,\n",
    "    )\n",
    "\n",
    "    ax.set_xticks([])\n",
    "    ax.set_yticks([])\n",
    "    \n",
    "    plt.tight_layout()"
   ]
  },
  {
   "cell_type": "code",
   "execution_count": null,
   "id": "cf7a4896-dc37-4c59-9843-d1e78e4f3e33",
   "metadata": {
    "execution": {
     "iopub.execute_input": "2022-03-09T07:24:50.589770Z",
     "iopub.status.busy": "2022-03-09T07:24:50.589424Z",
     "iopub.status.idle": "2022-03-09T07:24:50.620257Z",
     "shell.execute_reply": "2022-03-09T07:24:50.619866Z",
     "shell.execute_reply.started": "2022-03-09T07:24:50.589710Z"
    },
    "tags": []
   },
   "outputs": [],
   "source": [
    "fig.savefig(os.path.join(results_path, 'tara_pcoa.eps'))"
   ]
  },
  {
   "cell_type": "markdown",
   "id": "f67b66a4-dc1e-4798-82ca-75dff413ac20",
   "metadata": {
    "pycharm": {
     "name": "#%% md\n"
    }
   },
   "source": [
    "We can see in the plots above that the samples obtained in the two analyzed locations can be separated into distinct groups using only their MinHash signatures."
   ]
  }
 ],
 "metadata": {
  "citation-manager": {
   "items": {}
  },
  "kernelspec": {
   "display_name": "Python 3 (ipykernel)",
   "language": "python",
   "name": "python3"
  },
  "language_info": {
   "codemirror_mode": {
    "name": "ipython",
    "version": 3
   },
   "file_extension": ".py",
   "mimetype": "text/x-python",
   "name": "python",
   "nbconvert_exporter": "python",
   "pygments_lexer": "ipython3",
   "version": "3.8.12"
  }
 },
 "nbformat": 4,
 "nbformat_minor": 5
}